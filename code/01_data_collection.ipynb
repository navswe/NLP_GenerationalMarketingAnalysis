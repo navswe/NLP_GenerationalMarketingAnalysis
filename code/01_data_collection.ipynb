{
 "cells": [
  {
   "cell_type": "markdown",
   "id": "cc6a572a-0e75-495f-871d-9217de84d227",
   "metadata": {},
   "source": [
    "# 01_data_collection notebook"
   ]
  },
  {
   "cell_type": "markdown",
   "id": "2101c525-30bd-46e2-88f4-9a6dea53ffc3",
   "metadata": {},
   "source": [
    "**the objective of this notebook is to collect data from two subreddits using the Reddit API Wrapper (PRAW).**"
   ]
  },
  {
   "cell_type": "markdown",
   "id": "ed975d0e-7d0e-4e81-a09b-8d328dd5da6b",
   "metadata": {},
   "source": [
    "## 1. Install and import PRAW"
   ]
  },
  {
   "cell_type": "code",
   "execution_count": 1,
   "id": "11f0a826-7207-468b-bbe0-fc2097714428",
   "metadata": {},
   "outputs": [],
   "source": [
    "#!pip install praw\n",
    "import praw\n",
    "\n",
    "import pandas as pd\n",
    "import numpy as np"
   ]
  },
  {
   "cell_type": "markdown",
   "id": "f63cd6c0-6b7c-40d8-9b5f-5efbd2e8f6d9",
   "metadata": {},
   "source": [
    "### 2. Initialize PRAW"
   ]
  },
  {
   "cell_type": "code",
   "execution_count": 2,
   "id": "82356bb6-12d6-4f2b-8473-abff1387e89c",
   "metadata": {},
   "outputs": [],
   "source": [
    "reddit = praw.Reddit(\n",
    "    client_id='WrQSpiGTPYl4wj7FjzS34Q',\n",
    "    client_secret='YrN5ylobwZsRMDKGBsqfYhInovP3XQ',\n",
    "    user_agent='annadata_praw',\n",
    "    username='annadata',\n",
    "    password='redditin2024!',\n",
    ")"
   ]
  },
  {
   "cell_type": "markdown",
   "id": "fb351b5a-0de3-427c-9b70-7052f1641b15",
   "metadata": {},
   "source": [
    "### 3. Collect Subreddit Data"
   ]
  },
  {
   "cell_type": "markdown",
   "id": "7081be76-2bb2-4ef5-b031-818f57ed15c0",
   "metadata": {},
   "source": [
    "Initialize empty lists to store data from two subreddits, 'millenials' and 'genz', and collect the top 1000 posts of all time. "
   ]
  },
  {
   "cell_type": "code",
   "execution_count": 3,
   "id": "072ee2d4-f748-41b8-ba36-6f159bc007ad",
   "metadata": {},
   "outputs": [],
   "source": [
    "subreddit1_list = []\n",
    "subreddit2_list = []"
   ]
  },
  {
   "cell_type": "code",
   "execution_count": 4,
   "id": "dda89d70-17de-4ec7-881f-0d0d68978a4c",
   "metadata": {},
   "outputs": [],
   "source": [
    "subreddit1 = reddit.subreddit('millenials')\n",
    "subreddit1_data = subreddit1.hot(limit=1000)\n",
    "# subreddit1_data = subreddit1.top(time_filter='year', limit=1000)"
   ]
  },
  {
   "cell_type": "code",
   "execution_count": 5,
   "id": "fcf0ae2c-ced5-49d3-918b-86502cc956c6",
   "metadata": {},
   "outputs": [],
   "source": [
    "subreddit2 = reddit.subreddit('genz')\n",
    "subreddit2_data = subreddit2.hot(limit=1000)\n",
    "# subreddit2_data = subreddit2.top(time_filter='year', limit=1000)"
   ]
  },
  {
   "cell_type": "markdown",
   "id": "e6475359-9bcb-4028-9c83-9c56756c1af5",
   "metadata": {},
   "source": [
    "### 4. Create Dataframes"
   ]
  },
  {
   "cell_type": "code",
   "execution_count": 6,
   "id": "2bbc8ec9-8626-424a-a003-36df3c8a361b",
   "metadata": {},
   "outputs": [],
   "source": [
    "#loop through subreddit1_data and retrive the items, append to subreddit1_list\n",
    "for post in subreddit1_data:\n",
    "    subreddit1_list.append([post.id, post.created_utc, post.title, post.selftext, post.num_comments, post.score, post.upvote_ratio, post.subreddit])"
   ]
  },
  {
   "cell_type": "code",
   "execution_count": 7,
   "id": "08d51e17-de4e-432d-8187-06e0b95af279",
   "metadata": {},
   "outputs": [
    {
     "data": {
      "text/html": [
       "<div>\n",
       "<style scoped>\n",
       "    .dataframe tbody tr th:only-of-type {\n",
       "        vertical-align: middle;\n",
       "    }\n",
       "\n",
       "    .dataframe tbody tr th {\n",
       "        vertical-align: top;\n",
       "    }\n",
       "\n",
       "    .dataframe thead th {\n",
       "        text-align: right;\n",
       "    }\n",
       "</style>\n",
       "<table border=\"1\" class=\"dataframe\">\n",
       "  <thead>\n",
       "    <tr style=\"text-align: right;\">\n",
       "      <th></th>\n",
       "      <th>id</th>\n",
       "      <th>created_utc</th>\n",
       "      <th>title</th>\n",
       "      <th>self_text</th>\n",
       "      <th>num_comments</th>\n",
       "      <th>num_upvotes</th>\n",
       "      <th>upvote_ratio</th>\n",
       "      <th>subreddit</th>\n",
       "    </tr>\n",
       "  </thead>\n",
       "  <tbody>\n",
       "    <tr>\n",
       "      <th>0</th>\n",
       "      <td>17s1aa5</td>\n",
       "      <td>1.699613e+09</td>\n",
       "      <td>Do you feel dissillusioned with social media?</td>\n",
       "      <td>It's not difficult to argue that the user expe...</td>\n",
       "      <td>132</td>\n",
       "      <td>112</td>\n",
       "      <td>0.98</td>\n",
       "      <td>millenials</td>\n",
       "    </tr>\n",
       "    <tr>\n",
       "      <th>1</th>\n",
       "      <td>1ccrau6</td>\n",
       "      <td>1.714050e+09</td>\n",
       "      <td>Yesterday I noticed a Lamborghini beside me in...</td>\n",
       "      <td>…was a time…</td>\n",
       "      <td>190</td>\n",
       "      <td>439</td>\n",
       "      <td>0.93</td>\n",
       "      <td>millenials</td>\n",
       "    </tr>\n",
       "    <tr>\n",
       "      <th>2</th>\n",
       "      <td>1ccwkzr</td>\n",
       "      <td>1.714063e+09</td>\n",
       "      <td>Going through a midlife crisis</td>\n",
       "      <td>I have been realizing recently that I am going...</td>\n",
       "      <td>47</td>\n",
       "      <td>25</td>\n",
       "      <td>0.90</td>\n",
       "      <td>millenials</td>\n",
       "    </tr>\n",
       "    <tr>\n",
       "      <th>3</th>\n",
       "      <td>1cbwkmb</td>\n",
       "      <td>1.713961e+09</td>\n",
       "      <td>It's funny how get a degree in anything has tu...</td>\n",
       "      <td>Had an interesting thought this morning. Obvio...</td>\n",
       "      <td>2026</td>\n",
       "      <td>4972</td>\n",
       "      <td>0.86</td>\n",
       "      <td>millenials</td>\n",
       "    </tr>\n",
       "    <tr>\n",
       "      <th>4</th>\n",
       "      <td>1ccjb7c</td>\n",
       "      <td>1.714020e+09</td>\n",
       "      <td>Does anyone else's parents get angry when you ...</td>\n",
       "      <td>For example, I have been separated from my son...</td>\n",
       "      <td>29</td>\n",
       "      <td>73</td>\n",
       "      <td>0.97</td>\n",
       "      <td>millenials</td>\n",
       "    </tr>\n",
       "  </tbody>\n",
       "</table>\n",
       "</div>"
      ],
      "text/plain": [
       "        id   created_utc                                              title  \\\n",
       "0  17s1aa5  1.699613e+09      Do you feel dissillusioned with social media?   \n",
       "1  1ccrau6  1.714050e+09  Yesterday I noticed a Lamborghini beside me in...   \n",
       "2  1ccwkzr  1.714063e+09                     Going through a midlife crisis   \n",
       "3  1cbwkmb  1.713961e+09  It's funny how get a degree in anything has tu...   \n",
       "4  1ccjb7c  1.714020e+09  Does anyone else's parents get angry when you ...   \n",
       "\n",
       "                                           self_text  num_comments  \\\n",
       "0  It's not difficult to argue that the user expe...           132   \n",
       "1                                       …was a time…           190   \n",
       "2  I have been realizing recently that I am going...            47   \n",
       "3  Had an interesting thought this morning. Obvio...          2026   \n",
       "4  For example, I have been separated from my son...            29   \n",
       "\n",
       "   num_upvotes  upvote_ratio   subreddit  \n",
       "0          112          0.98  millenials  \n",
       "1          439          0.93  millenials  \n",
       "2           25          0.90  millenials  \n",
       "3         4972          0.86  millenials  \n",
       "4           73          0.97  millenials  "
      ]
     },
     "execution_count": 7,
     "metadata": {},
     "output_type": "execute_result"
    }
   ],
   "source": [
    "# create a DataFrame of subreddit1_df\n",
    "subreddit1_df = pd.DataFrame(subreddit1_list, columns = ['id', 'created_utc', 'title', 'self_text', 'num_comments', 'num_upvotes', 'upvote_ratio','subreddit'])\n",
    "subreddit1_df.head()"
   ]
  },
  {
   "cell_type": "code",
   "execution_count": 8,
   "id": "6a9c43d7-3420-4f2f-a694-bdd9b1938a30",
   "metadata": {},
   "outputs": [],
   "source": [
    "#loop through subreddit2_data and retrive the items, append to subreddit2_list\n",
    "for post in subreddit2_data:\n",
    "    subreddit2_list.append([post.id, post.created_utc, post.title, post.selftext, post.num_comments, post.score, post.upvote_ratio, post.subreddit])"
   ]
  },
  {
   "cell_type": "code",
   "execution_count": 9,
   "id": "5242d152-fafd-4fc2-af13-0ee2a3f7d170",
   "metadata": {},
   "outputs": [
    {
     "data": {
      "text/html": [
       "<div>\n",
       "<style scoped>\n",
       "    .dataframe tbody tr th:only-of-type {\n",
       "        vertical-align: middle;\n",
       "    }\n",
       "\n",
       "    .dataframe tbody tr th {\n",
       "        vertical-align: top;\n",
       "    }\n",
       "\n",
       "    .dataframe thead th {\n",
       "        text-align: right;\n",
       "    }\n",
       "</style>\n",
       "<table border=\"1\" class=\"dataframe\">\n",
       "  <thead>\n",
       "    <tr style=\"text-align: right;\">\n",
       "      <th></th>\n",
       "      <th>id</th>\n",
       "      <th>created_utc</th>\n",
       "      <th>title</th>\n",
       "      <th>self_text</th>\n",
       "      <th>num_comments</th>\n",
       "      <th>num_upvotes</th>\n",
       "      <th>upvote_ratio</th>\n",
       "      <th>subreddit</th>\n",
       "    </tr>\n",
       "  </thead>\n",
       "  <tbody>\n",
       "    <tr>\n",
       "      <th>0</th>\n",
       "      <td>1cco3ai</td>\n",
       "      <td>1.714039e+09</td>\n",
       "      <td>What movies/TV shows have you been watching th...</td>\n",
       "      <td>Animated, live-action, anime, etc.\\n\\nPlease m...</td>\n",
       "      <td>8</td>\n",
       "      <td>8</td>\n",
       "      <td>1.00</td>\n",
       "      <td>GenZ</td>\n",
       "    </tr>\n",
       "    <tr>\n",
       "      <th>1</th>\n",
       "      <td>1ccp0cg</td>\n",
       "      <td>1.714043e+09</td>\n",
       "      <td>So guys, whats your position on the roundabout?</td>\n",
       "      <td>I am a big fan of the roundabout, albeit, they...</td>\n",
       "      <td>1507</td>\n",
       "      <td>2083</td>\n",
       "      <td>0.86</td>\n",
       "      <td>GenZ</td>\n",
       "    </tr>\n",
       "    <tr>\n",
       "      <th>2</th>\n",
       "      <td>1ccyjg2</td>\n",
       "      <td>1.714070e+09</td>\n",
       "      <td>Self love is not buying yourself nice things a...</td>\n",
       "      <td>Self-love is delaying gratification with exerc...</td>\n",
       "      <td>213</td>\n",
       "      <td>275</td>\n",
       "      <td>0.68</td>\n",
       "      <td>GenZ</td>\n",
       "    </tr>\n",
       "    <tr>\n",
       "      <th>3</th>\n",
       "      <td>1ccpw52</td>\n",
       "      <td>1.714046e+09</td>\n",
       "      <td>Pressure when you turn 25-30</td>\n",
       "      <td>I feel a lot of people around our age have thi...</td>\n",
       "      <td>238</td>\n",
       "      <td>507</td>\n",
       "      <td>0.96</td>\n",
       "      <td>GenZ</td>\n",
       "    </tr>\n",
       "    <tr>\n",
       "      <th>4</th>\n",
       "      <td>1ccup50</td>\n",
       "      <td>1.714059e+09</td>\n",
       "      <td>What is everyone's favourite dinosaur?</td>\n",
       "      <td></td>\n",
       "      <td>239</td>\n",
       "      <td>246</td>\n",
       "      <td>0.97</td>\n",
       "      <td>GenZ</td>\n",
       "    </tr>\n",
       "  </tbody>\n",
       "</table>\n",
       "</div>"
      ],
      "text/plain": [
       "        id   created_utc                                              title  \\\n",
       "0  1cco3ai  1.714039e+09  What movies/TV shows have you been watching th...   \n",
       "1  1ccp0cg  1.714043e+09    So guys, whats your position on the roundabout?   \n",
       "2  1ccyjg2  1.714070e+09  Self love is not buying yourself nice things a...   \n",
       "3  1ccpw52  1.714046e+09                      Pressure when you turn 25-30    \n",
       "4  1ccup50  1.714059e+09             What is everyone's favourite dinosaur?   \n",
       "\n",
       "                                           self_text  num_comments  \\\n",
       "0  Animated, live-action, anime, etc.\\n\\nPlease m...             8   \n",
       "1  I am a big fan of the roundabout, albeit, they...          1507   \n",
       "2  Self-love is delaying gratification with exerc...           213   \n",
       "3  I feel a lot of people around our age have thi...           238   \n",
       "4                                                              239   \n",
       "\n",
       "   num_upvotes  upvote_ratio subreddit  \n",
       "0            8          1.00      GenZ  \n",
       "1         2083          0.86      GenZ  \n",
       "2          275          0.68      GenZ  \n",
       "3          507          0.96      GenZ  \n",
       "4          246          0.97      GenZ  "
      ]
     },
     "execution_count": 9,
     "metadata": {},
     "output_type": "execute_result"
    }
   ],
   "source": [
    "# create a DataFrame of subreddit2_df\n",
    "subreddit2_df = pd.DataFrame(subreddit2_list, columns = ['id', 'created_utc', 'title', 'self_text', 'num_comments', 'num_upvotes', 'upvote_ratio','subreddit'])\n",
    "subreddit2_df.head()"
   ]
  },
  {
   "cell_type": "code",
   "execution_count": 10,
   "id": "94bafc6c-64bf-4001-a44b-8812e60a70b5",
   "metadata": {},
   "outputs": [
    {
     "data": {
      "text/plain": [
       "(958, 8)"
      ]
     },
     "execution_count": 10,
     "metadata": {},
     "output_type": "execute_result"
    }
   ],
   "source": [
    "subreddit1_df.shape"
   ]
  },
  {
   "cell_type": "code",
   "execution_count": 21,
   "id": "ee77bebf-8753-4791-875a-d6f36f8bf006",
   "metadata": {},
   "outputs": [
    {
     "data": {
      "text/plain": [
       "(917, 8)"
      ]
     },
     "execution_count": 21,
     "metadata": {},
     "output_type": "execute_result"
    }
   ],
   "source": [
    "subreddit2_df.shape"
   ]
  },
  {
   "cell_type": "code",
   "execution_count": 18,
   "id": "83e07a5e-9dc9-40b3-ae1f-c5801dc87487",
   "metadata": {},
   "outputs": [
    {
     "data": {
      "text/plain": [
       "id              0\n",
       "created_utc     0\n",
       "title           0\n",
       "self_text       0\n",
       "num_comments    0\n",
       "num_upvotes     0\n",
       "upvote_ratio    0\n",
       "subreddit       0\n",
       "dtype: int64"
      ]
     },
     "execution_count": 18,
     "metadata": {},
     "output_type": "execute_result"
    }
   ],
   "source": [
    "subreddit1_df.isnull().sum()"
   ]
  },
  {
   "cell_type": "code",
   "execution_count": 17,
   "id": "7a2691a7-d2e1-453c-8a01-a44e18151cb6",
   "metadata": {},
   "outputs": [
    {
     "data": {
      "text/plain": [
       "id              0\n",
       "created_utc     0\n",
       "title           0\n",
       "self_text       0\n",
       "num_comments    0\n",
       "num_upvotes     0\n",
       "upvote_ratio    0\n",
       "subreddit       0\n",
       "dtype: int64"
      ]
     },
     "execution_count": 17,
     "metadata": {},
     "output_type": "execute_result"
    }
   ],
   "source": [
    "subreddit2_df.isnull().sum()"
   ]
  },
  {
   "cell_type": "markdown",
   "id": "c9ee83d8-549a-49a8-bdf5-8b4e5dc10dc6",
   "metadata": {},
   "source": [
    "### 4. Export to CSV"
   ]
  },
  {
   "cell_type": "markdown",
   "id": "b8fe21c2-4b81-4146-a1a7-2432156d66b5",
   "metadata": {},
   "source": [
    "export each dataframe to CSV and save as the subreddit name."
   ]
  },
  {
   "cell_type": "code",
   "execution_count": 19,
   "id": "ec8b4a8e-7a71-4a15-b402-a9adcfc8f606",
   "metadata": {},
   "outputs": [],
   "source": [
    "subreddit1_df.to_csv('../data/millenials_raw.csv', index=False)"
   ]
  },
  {
   "cell_type": "code",
   "execution_count": 20,
   "id": "d1e3591b-4f11-45a7-9b97-b19485b4b7ae",
   "metadata": {},
   "outputs": [],
   "source": [
    "subreddit2_df.to_csv('../data/genz_raw.csv', index = False)"
   ]
  }
 ],
 "metadata": {
  "kernelspec": {
   "display_name": "Python 3 (ipykernel)",
   "language": "python",
   "name": "python3"
  },
  "language_info": {
   "codemirror_mode": {
    "name": "ipython",
    "version": 3
   },
   "file_extension": ".py",
   "mimetype": "text/x-python",
   "name": "python",
   "nbconvert_exporter": "python",
   "pygments_lexer": "ipython3",
   "version": "3.11.7"
  }
 },
 "nbformat": 4,
 "nbformat_minor": 5
}
